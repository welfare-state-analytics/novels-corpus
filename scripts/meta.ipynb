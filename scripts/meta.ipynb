{
 "cells": [
  {
   "cell_type": "code",
   "execution_count": 62,
   "metadata": {},
   "outputs": [],
   "source": [
    "import pandas as pd\n",
    "from kblab import Archive\n",
    "import requests\n",
    "from requests.auth import HTTPBasicAuth\n",
    "import time\n",
    "from pathlib import Path\n",
    "from bs4 import BeautifulSoup\n",
    "romaner=[{\"meta.host_title\": \"Welfare state analytics\"},\"https://datalab.kb.se\"]\n",
    "\n",
    "def kb_df(filter=romaner,max_number=5000):\n",
    "    kb_data=pd.DataFrame()\n",
    "    kb_data[\"Libris-ID\"]=\"\"\n",
    "    kb_data[\"Datalab ID\"]=\"\"\n",
    "    kb_data[\"has_content\"]=\"\"\n",
    "    home_dir=str(Path.home())\n",
    "\n",
    "    with open(\"/home/liamtabibzadeh/Documents/API_credentials.txt\", 'r') as file:\n",
    "        pw = file.read().replace('\\n', '')\n",
    "    a = Archive(\"https://datalab.kb.se\", auth=(\"demo\", pw))\n",
    "\n",
    "    for package_id in a.search(filter[0], max=max_number):\n",
    "        book_values=[]\n",
    "        libris=None\n",
    "\n",
    "        for x in a.get(package_id):\n",
    "            if \"mets.metadata\" in x:\n",
    "                    \n",
    "                    for i in range(5):\n",
    "                        backoff_time = 0.1 * (2 ** i)\n",
    "                        meta=requests.get(f\"{filter[1]}/{package_id}/{x}\", auth=HTTPBasicAuth(\"demo\", pw),stream=True)\n",
    "                        if meta.status_code == 200:\n",
    "                            libris=BeautifulSoup(meta.text, 'xml').find('mods:identifier', {'type': 'uri'}).text[21:]\n",
    "                            break\n",
    "                        else:\n",
    "                            time.sleep(backoff_time)\n",
    "                            if i==5:\n",
    "                                print(f\"Libris attempt failed for {package_id} even if metadata exists\")\n",
    "                    break\n",
    "        book_values.append(libris)\n",
    "        book_values.append(package_id)\n",
    "\n",
    "        has_content=False\n",
    "        for x in a.get(package_id):\n",
    "            if \"xml\" in x:\n",
    "                has_content=True\n",
    "                break\n",
    "        book_values.append(has_content)\n",
    "\n",
    "        kb_data.loc[len(kb_data)]=book_values\n",
    "    return kb_data\n",
    "\n"
   ]
  },
  {
   "cell_type": "code",
   "execution_count": 63,
   "metadata": {},
   "outputs": [],
   "source": [
    "kb=kb_df()\n"
   ]
  },
  {
   "cell_type": "code",
   "execution_count": 27,
   "metadata": {},
   "outputs": [],
   "source": [
    "meta=pd.read_excel(\"/home/liamtabibzadeh/Documents/kb info/meta.xlsx\")"
   ]
  },
  {
   "cell_type": "code",
   "execution_count": 70,
   "metadata": {},
   "outputs": [],
   "source": [
    "all_meta=pd.merge(kb,meta,how=\"left\",on=\"Libris-ID\")\n",
    "metadata_missing_content=all_meta[all_meta[\"has_content\"]==False] \n",
    "\n",
    "all_meta['has_content'] = all_meta['has_content'].map({False: \"no\",True:\"yes\"})\n",
    "metadata_missing_content.to_excel(\"saknas.xlsx\",index=False)\n",
    "all_meta.to_excel(\"meta_data.xlsx\",index=False)\n"
   ]
  }
 ],
 "metadata": {
  "kernelspec": {
   "display_name": "Python 3 (ipykernel)",
   "language": "python",
   "name": "python3"
  },
  "language_info": {
   "codemirror_mode": {
    "name": "ipython",
    "version": 3
   },
   "file_extension": ".py",
   "mimetype": "text/x-python",
   "name": "python",
   "nbconvert_exporter": "python",
   "pygments_lexer": "ipython3",
   "version": "3.8.10"
  },
  "orig_nbformat": 4,
  "vscode": {
   "interpreter": {
    "hash": "6de4daa554a89464eaf3b05fe2101659a8f5db09bb7dd50343cc26143da45c29"
   }
  }
 },
 "nbformat": 4,
 "nbformat_minor": 2
}
