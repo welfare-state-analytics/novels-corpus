{
 "cells": [
  {
   "cell_type": "code",
   "execution_count": null,
   "metadata": {},
   "outputs": [],
   "source": [
    "def remove_suffix(title):\n",
    "    suffices=[\": novellroman\",\": en roman\",\": en berättelse\",\": detektivroman\",\": gymnasial berättelse\",\": en berättelse\",\": Roman\",\": dramatisk roman\",\": kriminalroman\",\": självbiografisk berättelse\",\": historisk roman\",\": historisk äventyrsroman\",\": en kärleksthriller\",\": en äventyrsberättelse\",\": en ungdomsbok\",\": [roman]\" ]\n",
    "    for x in suffices:\n",
    "        if x in title:\n",
    "            title=title.replace(x,\"\")\n",
    "            break\n",
    "    return title"
   ]
  },
  {
   "cell_type": "code",
   "execution_count": null,
   "metadata": {},
   "outputs": [],
   "source": [
    "from kblab import Archive\n",
    "import requests\n",
    "from requests.auth import HTTPBasicAuth\n",
    "from lxml import etree\n",
    "import xml.etree.ElementTree as ET\n",
    "import time\n",
    "romaner={\"meta.host_title\": \"Welfare state analytics\"}\n",
    "blm={\"label\": \"BONNIERS\", \"tags\": \"issue\"}\n",
    "afton={\"tags\": \"issue\"}\n",
    "\n",
    "def titles_mapping(filter=romaner,max_number=6000):\n",
    "    with open('/home/liamtabibzadeh/Documents/API_credentials.txt', 'r') as file:\n",
    "        pw = file.read().replace('\\n', '')\n",
    "    a = Archive(\"https://datalab.kb.se\", auth=(\"demo\", pw))\n",
    "    \n",
    "    books_meta={}\n",
    "    for package_id in a.search(filter, max=max_number):\n",
    "        for x in a.get(package_id):\n",
    "            if \"aip.mets.metadata\" in x:\n",
    "                for i in range(5):\n",
    "                    backoff_time = 0.1 * (2 ** i)\n",
    "                    meta=requests.get(f\"https://datalab.kb.se/{package_id}/{x}\", auth=HTTPBasicAuth(\"demo\", pw),stream=True)\n",
    "                    if meta.status_code == 200:\n",
    "                        root=ET.fromstring(meta.text)\n",
    "                        meta_data=root.attrib\n",
    "                        title=meta_data[\"LABEL\"]\n",
    "                        title=remove_suffix(title)\n",
    "                        books_meta[title]=package_id\n",
    "                \n",
    "                        break\n",
    "            \n",
    "                    else:\n",
    "                        time.sleep(backoff_time)\n",
    "                break\n",
    "    return books_meta"
   ]
  },
  {
   "cell_type": "code",
   "execution_count": null,
   "metadata": {},
   "outputs": [],
   "source": [
    "\n",
    "def get_meta_data(path):\n",
    "    import pandas as pd\n",
    "    meta_data=pd.read_excel(path)\n",
    "    meta_data[\"Datalab ID\"]=\"\"\n",
    "\n",
    "    for key,value in titles_mapping().items():\n",
    "        for i in range(len(meta_data)):\n",
    "            if key==meta_data.iloc[i][\"Titel\"]:\n",
    "                meta_data.loc[i,\"Datalab ID\"]+=value\n",
    "\n",
    "        if key not in list(meta_data[\"Titel\"]):\n",
    "            meta_data.loc[len(meta_data)] = [key,0,0,0,0,0,value]\n",
    "    return meta_data\n",
    "\n",
    "\n"
   ]
  }
 ],
 "metadata": {
  "kernelspec": {
   "display_name": "base",
   "language": "python",
   "name": "python3"
  },
  "language_info": {
   "codemirror_mode": {
    "name": "ipython",
    "version": 3
   },
   "file_extension": ".py",
   "mimetype": "text/x-python",
   "name": "python",
   "nbconvert_exporter": "python",
   "pygments_lexer": "ipython3",
   "version": "3.9.12"
  },
  "orig_nbformat": 4,
  "vscode": {
   "interpreter": {
    "hash": "6de4daa554a89464eaf3b05fe2101659a8f5db09bb7dd50343cc26143da45c29"
   }
  }
 },
 "nbformat": 4,
 "nbformat_minor": 2
}
